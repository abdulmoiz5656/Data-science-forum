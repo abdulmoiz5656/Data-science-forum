{
 "cells": [
  {
   "cell_type": "code",
   "execution_count": null,
   "metadata": {},
   "outputs": [],
   "source": [
    "import pandas as pd\n",
    "from sklearn.preprocessing import StandardScaler\n",
    "from sklearn.decomposition import PCA\n",
    "from sklearn.cluster import KMeans, AgglomerativeClustering, DBSCAN, SpectralClustering\n",
    "from sklearn.metrics import silhouette_score, calinski_harabasz_score, davie"
   ]
  },
  {
   "cell_type": "code",
   "execution_count": null,
   "metadata": {},
   "outputs": [],
   "source": [
    "file_path = 'F1Drivers_Dataset.csv' \n",
    "f1_drivers_dataset = pd.read_csv(file_path)"
   ]
  },
  {
   "cell_type": "code",
   "execution_count": null,
   "metadata": {},
   "outputs": [],
   "source": [
    "numerical_columns = f1_drivers_dataset.select_dtypes(include=['float64', 'int64']).columns\n",
    "data_for_clustering = f1_drivers_dataset[numerical_columns]\n",
    "data_for_clustering.fillna(data_for_clustering.mean(), inplace=True)"
   ]
  },
  {
   "cell_type": "code",
   "execution_count": null,
   "metadata": {},
   "outputs": [],
   "source": [
    "scaler = StandardScaler()\n",
    "scaled_data = scaler.fit_transform(data_for_clustering)"
   ]
  },
  {
   "cell_type": "code",
   "execution_count": null,
   "metadata": {},
   "outputs": [],
   "source": [
    "pca = PCA(n_components=2)  # Reduce to 2 dimensions for visualization purposes\n",
    "pca_data = pca.fit_transform(scaled_data)\n",
    "\n",
    "# Applying K-Means Clustering\n",
    "kmeans = KMeans(n_clusters=3)  # Assume 3 clusters for simplicity\n",
    "kmeans_labels = kmeans.fit_predict(pca_data)\n",
    "\n",
    "# Applying Hierarchical Clustering\n",
    "hierarchical = AgglomerativeClustering(n_clusters=3)\n",
    "hierarchical_labels = hierarchical.fit_predict(pca_data)\n",
    "\n",
    "# Applying DBSCAN\n",
    "dbscan = DBSCAN(eps=0.5, min_samples=5)  # These parameters can be tuned\n",
    "dbscan_labels = dbscan.fit_predict(pca_data)\n",
    "\n",
    "# Applying Spectral Clustering\n",
    "spectral = SpectralClustering(n_clusters=3, affinity='nearest_neighbors')\n",
    "spectral_labels = spectral.fit_predict(pca_data)"
   ]
  },
  {
   "cell_type": "code",
   "execution_count": null,
   "metadata": {},
   "outputs": [],
   "source": [
    "silhouette_kmeans = silhouette_score(pca_data, kmeans_labels)\n",
    "calinski_kmeans = calinski_harabasz_score(pca_data, kmeans_labels)\n",
    "davies_kmeans = davies_bouldin_score(pca_data, kmeans_labels)\n",
    "\n",
    "# For Hierarchical Clustering\n",
    "silhouette_hierarchical = silhouette_score(pca_data, hierarchical_labels)\n",
    "calinski_hierarchical = calinski_harabasz_score(pca_data, hierarchical_labels)\n",
    "davies_hierarchical = davies_bouldin_score(pca_data, hierarchical_labels)\n",
    "\n",
    "# For DBSCAN\n",
    "silhouette_dbscan = silhouette_score(pca_data, dbscan_labels)\n",
    "calinski_dbscan = calinski_harabasz_score(pca_data, dbscan_labels)\n",
    "davies_dbscan = davies_bouldin_score(pca_data, dbscan_labels)\n",
    "\n",
    "# For Spectral Clustering\n",
    "silhouette_spectral = silhouette_score(pca_data, spectral_labels)\n",
    "calinski_spectral = calinski_harabasz_score(pca_data, spectral_labels)\n",
    "davies_spectral = davies_bouldin_score(pca_data, spectral_labels)\n",
    "evaluation_metrics = {\n",
    "    \"Algorithm\": [\"K-Means\", \"Hierarchical\", \"DBSCAN\", \"Spectral\"],\n",
    "    \"Silhouette Score\": [silhouette_kmeans, silhouette_hierarchical, silhouette_dbscan, silhouette_spectral],\n",
    "    \"Calinski-Harabasz Score\": [calinski_kmeans, calinski_hierarchical, calinski_dbscan, calinski_spectral],\n",
    "    \"Davies-Bouldin Score\": [davies_kmeans, davies_hierarchical, davies_dbscan, davies_spectral]\n",
    "}\n",
    "\n",
    "evaluation_results = pd.DataFrame(evaluation_metrics)\n",
    "print(evaluation_results)"
   ]
  }
 ],
 "metadata": {
  "language_info": {
   "name": "python"
  }
 },
 "nbformat": 4,
 "nbformat_minor": 2
}
